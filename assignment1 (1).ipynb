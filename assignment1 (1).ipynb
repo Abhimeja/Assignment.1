{
 "cells": [
  {
   "cell_type": "markdown",
   "id": "410004ef-0055-4701-a6c3-bec864a09d8f",
   "metadata": {},
   "source": [
    "Q1. Create one variable containing following type of data:\n",
    "(i) string\n",
    "(ii) list\n",
    "(iii) float\n",
    "(iv) tuple"
   ]
  },
  {
   "cell_type": "code",
   "execution_count": 2,
   "id": "e529fa01-3058-4d98-a74e-e8188bcd87ae",
   "metadata": {},
   "outputs": [],
   "source": [
    "a =\"Data science\""
   ]
  },
  {
   "cell_type": "code",
   "execution_count": 3,
   "id": "96c5dc5b-05a7-4e94-8ccc-667acb8f8a39",
   "metadata": {},
   "outputs": [
    {
     "data": {
      "text/plain": [
       "'Data science'"
      ]
     },
     "execution_count": 3,
     "metadata": {},
     "output_type": "execute_result"
    }
   ],
   "source": [
    "a"
   ]
  },
  {
   "cell_type": "code",
   "execution_count": 4,
   "id": "e03794dd-555d-4141-ba65-69b82ee814ba",
   "metadata": {},
   "outputs": [],
   "source": [
    "l=[1,2,3,\"python\",33.44,False]"
   ]
  },
  {
   "cell_type": "code",
   "execution_count": 5,
   "id": "8a9a609c-0046-46f7-92e0-c4e9c0004319",
   "metadata": {},
   "outputs": [
    {
     "data": {
      "text/plain": [
       "[1, 2, 3, 'python', 33.44, False]"
      ]
     },
     "execution_count": 5,
     "metadata": {},
     "output_type": "execute_result"
    }
   ],
   "source": [
    "l"
   ]
  },
  {
   "cell_type": "code",
   "execution_count": 6,
   "id": "ad7eee5e-7f05-4411-8e5c-40799e1c114a",
   "metadata": {},
   "outputs": [],
   "source": [
    "b=12.44"
   ]
  },
  {
   "cell_type": "code",
   "execution_count": 7,
   "id": "08870331-a454-4dd7-a7ec-4b0216dfd904",
   "metadata": {},
   "outputs": [
    {
     "data": {
      "text/plain": [
       "12.44"
      ]
     },
     "execution_count": 7,
     "metadata": {},
     "output_type": "execute_result"
    }
   ],
   "source": [
    "b"
   ]
  },
  {
   "cell_type": "code",
   "execution_count": 8,
   "id": "b181f3d6-5708-4cf5-b1df-17755451b521",
   "metadata": {},
   "outputs": [],
   "source": [
    "c=('Abhishek',123,True)"
   ]
  },
  {
   "cell_type": "code",
   "execution_count": 9,
   "id": "636c30c1-f34d-47eb-a8fc-7a3cecee3bb7",
   "metadata": {},
   "outputs": [
    {
     "data": {
      "text/plain": [
       "('Abhishek', 123, True)"
      ]
     },
     "execution_count": 9,
     "metadata": {},
     "output_type": "execute_result"
    }
   ],
   "source": [
    "c"
   ]
  },
  {
   "cell_type": "code",
   "execution_count": 10,
   "id": "c53a35bc-53ea-43c8-b8b3-369f8c87372c",
   "metadata": {},
   "outputs": [
    {
     "data": {
      "text/plain": [
       "tuple"
      ]
     },
     "execution_count": 10,
     "metadata": {},
     "output_type": "execute_result"
    }
   ],
   "source": [
    "type(c)"
   ]
  },
  {
   "cell_type": "markdown",
   "id": "db72a3b9-aa4e-4ef9-a049-51c35a3cd711",
   "metadata": {},
   "source": [
    "Q2. Given are some following variables containing data:\n",
    "(i) var1 = ‘ ‘\n",
    "(ii) var2 = ‘[ DS , ML , Python]’\n",
    "(iii) var3 = [ ‘DS’ , ’ML’ , ‘Python’ ]\n",
    "(iv) var4 = 1.\n",
    "What will be the data type of the above given variable."
   ]
  },
  {
   "cell_type": "code",
   "execution_count": 11,
   "id": "b6dc3b1a-6b64-4c55-9d84-f8bd25d439df",
   "metadata": {},
   "outputs": [],
   "source": [
    "var1=''"
   ]
  },
  {
   "cell_type": "code",
   "execution_count": 12,
   "id": "5d669c32-a060-46e2-addf-69f8a07b0581",
   "metadata": {},
   "outputs": [
    {
     "data": {
      "text/plain": [
       "str"
      ]
     },
     "execution_count": 12,
     "metadata": {},
     "output_type": "execute_result"
    }
   ],
   "source": [
    "type(var1)"
   ]
  },
  {
   "cell_type": "code",
   "execution_count": 16,
   "id": "f64f5a68-acfc-4bfc-90c5-95e3b6e91a87",
   "metadata": {},
   "outputs": [],
   "source": [
    "var2= '[ DS , ML , Python]'"
   ]
  },
  {
   "cell_type": "code",
   "execution_count": 17,
   "id": "b6cdc920-d770-4a7b-a1ab-b1adc221d531",
   "metadata": {},
   "outputs": [
    {
     "data": {
      "text/plain": [
       "str"
      ]
     },
     "execution_count": 17,
     "metadata": {},
     "output_type": "execute_result"
    }
   ],
   "source": [
    "type(var2)"
   ]
  },
  {
   "cell_type": "code",
   "execution_count": 18,
   "id": "936b632b-3e19-499e-9eda-e3ff938ae6f3",
   "metadata": {},
   "outputs": [],
   "source": [
    "var3=['DS','ML','Python']"
   ]
  },
  {
   "cell_type": "code",
   "execution_count": 19,
   "id": "97baec61-f6f1-40c1-8821-3e4509168691",
   "metadata": {},
   "outputs": [
    {
     "data": {
      "text/plain": [
       "list"
      ]
     },
     "execution_count": 19,
     "metadata": {},
     "output_type": "execute_result"
    }
   ],
   "source": [
    "type(var3)"
   ]
  },
  {
   "cell_type": "code",
   "execution_count": 21,
   "id": "347a3e0e-a756-40ba-8643-6866a6173086",
   "metadata": {},
   "outputs": [],
   "source": [
    "var4=1."
   ]
  },
  {
   "cell_type": "code",
   "execution_count": 22,
   "id": "4d2bf5b7-3fac-4ccb-9b3b-17665b5e9497",
   "metadata": {},
   "outputs": [
    {
     "data": {
      "text/plain": [
       "float"
      ]
     },
     "execution_count": 22,
     "metadata": {},
     "output_type": "execute_result"
    }
   ],
   "source": [
    "type(var4)"
   ]
  },
  {
   "cell_type": "markdown",
   "id": "27399266-be38-48ef-9c22-e0f1e78c4b01",
   "metadata": {},
   "source": [
    "Q3. Explain the use of the following operators using an example:\n",
    "(i) /\n",
    "(ii) %\n",
    "(iii) //\n",
    "(iv) **"
   ]
  },
  {
   "cell_type": "code",
   "execution_count": 27,
   "id": "ec3de6b7-5faf-4165-a789-a65c5f6f082c",
   "metadata": {},
   "outputs": [
    {
     "data": {
      "text/plain": [
       "0.5"
      ]
     },
     "execution_count": 27,
     "metadata": {},
     "output_type": "execute_result"
    }
   ],
   "source": [
    "1/2 #for divisio"
   ]
  },
  {
   "cell_type": "code",
   "execution_count": 28,
   "id": "62658897-8138-46b3-a046-c3228769683d",
   "metadata": {},
   "outputs": [
    {
     "data": {
      "text/plain": [
       "1"
      ]
     },
     "execution_count": 28,
     "metadata": {},
     "output_type": "execute_result"
    }
   ],
   "source": [
    "5%2 #for remander"
   ]
  },
  {
   "cell_type": "code",
   "execution_count": 29,
   "id": "c89738fe-9da4-47bf-9ce1-69073093620b",
   "metadata": {},
   "outputs": [
    {
     "data": {
      "text/plain": [
       "4"
      ]
     },
     "execution_count": 29,
     "metadata": {},
     "output_type": "execute_result"
    }
   ],
   "source": [
    "9//2 #for quotient"
   ]
  },
  {
   "cell_type": "code",
   "execution_count": 1,
   "id": "193a8649-f684-46a6-9ee6-ff774bf6b74d",
   "metadata": {},
   "outputs": [
    {
     "data": {
      "text/plain": [
       "32"
      ]
     },
     "execution_count": 1,
     "metadata": {},
     "output_type": "execute_result"
    }
   ],
   "source": [
    "2**5 #for power/expo"
   ]
  },
  {
   "cell_type": "markdown",
   "id": "01d2d580-c112-4bee-8b2f-d4de6cbbd358",
   "metadata": {},
   "source": [
    "Q4. Create a list of length 10 of your choice containing multiple types of data. Using for loop print the\n",
    "element and its data type."
   ]
  },
  {
   "cell_type": "code",
   "execution_count": 3,
   "id": "bd519eb1-fa7d-4cfe-8c66-6b0117fbad38",
   "metadata": {},
   "outputs": [
    {
     "name": "stdout",
     "output_type": "stream",
     "text": [
      "1\n",
      "2\n",
      "3\n",
      "23.45\n",
      "i love india\n",
      "pwskill\n",
      "True\n",
      "47.9\n",
      "False\n"
     ]
    }
   ],
   "source": [
    "l=[1,2,3,23.45,\"i love india\",'pwskill',True,47.90,False]\n",
    "for A in l:\n",
    "    print(A)"
   ]
  },
  {
   "cell_type": "code",
   "execution_count": 4,
   "id": "f7840ffe-8a9e-479e-822c-4598fb335944",
   "metadata": {},
   "outputs": [
    {
     "name": "stdout",
     "output_type": "stream",
     "text": [
      "<class 'int'>\n",
      "<class 'int'>\n",
      "<class 'int'>\n",
      "<class 'float'>\n",
      "<class 'str'>\n",
      "<class 'str'>\n",
      "<class 'bool'>\n",
      "<class 'float'>\n",
      "<class 'bool'>\n"
     ]
    }
   ],
   "source": [
    "for A in l:\n",
    "    print(type(A))"
   ]
  },
  {
   "cell_type": "markdown",
   "id": "5141a0ce-3284-4e8d-863c-e240704235a1",
   "metadata": {},
   "source": [
    "Q5. Using a while loop, verify if the number A is purely divisible by number B and if so then how many\n",
    "times it can be divisible."
   ]
  },
  {
   "cell_type": "code",
   "execution_count": 3,
   "id": "30f8c078-c39f-455c-8103-8d92ddf30f79",
   "metadata": {},
   "outputs": [
    {
     "name": "stdin",
     "output_type": "stream",
     "text": [
      "Enter the value of A 64\n",
      "Enter the value of B 2\n"
     ]
    },
    {
     "name": "stdout",
     "output_type": "stream",
     "text": [
      "A is divisable by B, and it can be divided 1 times.\n",
      "A is divisable by B, and it can be divided 2 times.\n",
      "A is divisable by B, and it can be divided 3 times.\n",
      "A is divisable by B, and it can be divided 4 times.\n",
      "A is divisable by B, and it can be divided 5 times.\n",
      "A is divisable by B, and it can be divided 6 times.\n"
     ]
    }
   ],
   "source": [
    "A=int(input(\"Enter the value of A\"))\n",
    "B=int(input(\"Enter the value of B\"))\n",
    "count=0\n",
    "while A%B==0:\n",
    "    count+=1\n",
    "    A/=B\n",
    "    if count > 0:\n",
    "        print(\"A is divisable by B, and it can be divided\",count,\"times.\")\n",
    "    else:\n",
    "        print(\"A is not divisalbe by B\")"
   ]
  },
  {
   "cell_type": "markdown",
   "id": "0bcec9af-5437-4cb9-8712-d94f87e31486",
   "metadata": {},
   "source": [
    "Q6. Create a list containing 25 int type data. Using for loop and if-else condition print if the element is\n",
    "divisible by 3 or not."
   ]
  },
  {
   "cell_type": "code",
   "execution_count": 6,
   "id": "4295b7bd-386d-473a-a8cb-dfc89dc4ccbc",
   "metadata": {},
   "outputs": [
    {
     "name": "stdout",
     "output_type": "stream",
     "text": [
      "1 is not divisible by 3\n",
      "2 is not divisible by 3\n",
      "3 is divisible by 3\n",
      "4 is not divisible by 3\n",
      "5 is not divisible by 3\n",
      "6 is divisible by 3\n",
      "7 is not divisible by 3\n",
      "8 is not divisible by 3\n",
      "9 is divisible by 3\n",
      "12 is divisible by 3\n",
      "13 is not divisible by 3\n",
      "14 is not divisible by 3\n",
      "15 is divisible by 3\n",
      "17 is not divisible by 3\n",
      "19 is not divisible by 3\n",
      "18 is divisible by 3\n",
      "23 is not divisible by 3\n",
      "27 is divisible by 3\n",
      "28 is not divisible by 3\n",
      "30 is divisible by 3\n",
      "50 is not divisible by 3\n",
      "55 is not divisible by 3\n",
      "56 is not divisible by 3\n",
      "66 is divisible by 3\n",
      "68 is not divisible by 3\n"
     ]
    }
   ],
   "source": [
    "numbers = [ 1,2,3,4,5,6,7,8,9,12,13,14,15,17,19,18,23,27,28,30,50,55,56,66,68]\n",
    "\n",
    "for number in numbers:\n",
    "    if number % 3 == 0:\n",
    "        print(f\"{number} is divisible by 3\")\n",
    "    else:\n",
    "        print(f\"{number} is not divisible by 3\")"
   ]
  },
  {
   "cell_type": "markdown",
   "id": "53a8067e-0003-4506-929c-f73ed30e0257",
   "metadata": {},
   "source": [
    "Q7. What do you understand about mutable and immutable data types? Give examples for both showing\n",
    "this property."
   ]
  },
  {
   "cell_type": "markdown",
   "id": "e791e871-290c-4a50-9d9d-cf22ca025106",
   "metadata": {},
   "source": [
    "Ans--7 : A data type is said to be mutable if it can be modified or changed after it is created, while an immutable data type cannot be modified once it is created.\n",
    "Examples of immutable data types are:\n",
    "int, float, bool, str, tuple, and frozenset. Once created, their values cannot be modified.\n",
    "Examples of mutable data types are:\n",
    "list, dict, and set. They can be modified after creation"
   ]
  },
  {
   "cell_type": "code",
   "execution_count": 7,
   "id": "1899bea8-9d19-467e-8cf7-e9c603e84fdf",
   "metadata": {},
   "outputs": [],
   "source": [
    "a = 10   # int\n",
    "b = 3.14   # float\n",
    "c = True   # bool\n",
    "d = \"hello\"   # str\n",
    "e = (1, 2, 3)   # tuple\n",
    "f = frozenset([1, 2, 3])   # frozenset"
   ]
  },
  {
   "cell_type": "code",
   "execution_count": null,
   "id": "1b488914-001e-4bf7-acda-68ffaf68d8ac",
   "metadata": {},
   "outputs": [],
   "source": [
    "# Examples of mutable data types\n",
    "my_list = [1, 2, 3, 4]   # list\n",
    "my_dict = {'a': 1, 'b': 2}   # dict\n",
    "my_set = {1, 2, 3}   # set\n",
    "\n",
    "# Modifying a mutable object is allowed\n",
    "my_list[0] = 5   # [5, 2, 3, 4]\n",
    "my_dict['c'] = 3   # {'a': 1, 'b': 2, 'c': 3}\n",
    "my_set.add(4)   # {1, 2, 3, 4}"
   ]
  }
 ],
 "metadata": {
  "kernelspec": {
   "display_name": "Python 3 (ipykernel)",
   "language": "python",
   "name": "python3"
  },
  "language_info": {
   "codemirror_mode": {
    "name": "ipython",
    "version": 3
   },
   "file_extension": ".py",
   "mimetype": "text/x-python",
   "name": "python",
   "nbconvert_exporter": "python",
   "pygments_lexer": "ipython3",
   "version": "3.10.8"
  }
 },
 "nbformat": 4,
 "nbformat_minor": 5
}
